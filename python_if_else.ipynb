{
  "nbformat": 4,
  "nbformat_minor": 0,
  "metadata": {
    "colab": {
      "name": "python_if_else.ipynb",
      "provenance": [],
      "collapsed_sections": []
    },
    "kernelspec": {
      "name": "python3",
      "display_name": "Python 3"
    }
  },
  "cells": [
    {
      "cell_type": "markdown",
      "metadata": {
        "id": "2YuOUT9I1qDZ"
      },
      "source": [
        "# **Python If-Else**\r\n",
        "\r\n",
        "Link del challenge\r\n",
        "> https://www.hackerrank.com/challenges/py-if-else/problem\r\n",
        "\r\n",
        "\r\n"
      ]
    },
    {
      "cell_type": "markdown",
      "metadata": {
        "id": "srZV48ElQdsZ"
      },
      "source": [
        "## **PROBLEM**\r\n",
        "\r\n",
        "## Task\r\n",
        "Given an integer, n, perform the following conditional actions:\r\n",
        "\r\n",
        "*   If **n** is odd, print `Weird`\r\n",
        "*   If **n** is even and in the inclusive range of **2** to **5**, print `Not Weird`\r\n",
        "*   If **n** is even and in the inclusive range of **6** to **20**, print `Weird`\r\n",
        "*   If **n** is even and greater than **20**, print `Not Weird`\r\n",
        "\r\n",
        "## Input Format\r\n",
        "\r\n",
        "A single line containing a positive integer, **n**.\r\n",
        "\r\n",
        "## Constraints\r\n",
        "1 ≤ n ≤ 100\r\n",
        "\r\n",
        "## Output Format\r\n",
        "\r\n",
        "Print `Weird` if the number is weird. Otherwise, print `Not Weird`.\r\n",
        "\r\n",
        "## Sample Input 0\r\n",
        "\r\n",
        "    3\r\n",
        "\r\n",
        "## Sample Output 0\r\n",
        "\r\n",
        "    Weird\r\n",
        "\r\n",
        "\r\n",
        "## Explanation 0\r\n",
        "**n = 3**\r\n",
        "\r\n",
        "**n** is odd and odd numbers are weird, so print `Weird`.\r\n",
        "\r\n",
        "## Sample Input 1\r\n",
        "\r\n",
        "    24\r\n",
        "\r\n",
        "## Sample Output 1\r\n",
        "\r\n",
        "    Not Weird\r\n",
        "\r\n",
        "## Explanation 1\r\n",
        "**n= 24**\r\n",
        "\r\n",
        "**n > 20** and **n** is even, so it is not weird."
      ]
    },
    {
      "cell_type": "markdown",
      "metadata": {
        "id": "RpJUx43GSLsz"
      },
      "source": [
        "## **RESOLUTION**\r\n",
        "\r\n",
        "\r\n"
      ]
    },
    {
      "cell_type": "code",
      "metadata": {
        "colab": {
          "base_uri": "https://localhost:8080/"
        },
        "id": "QhPY032OR9NU",
        "outputId": "12d45cf6-2166-4484-8b39-37e21c84c790"
      },
      "source": [
        "#!/bin/python3\r\n",
        "\r\n",
        "import math\r\n",
        "import os\r\n",
        "import random\r\n",
        "import re\r\n",
        "import sys\r\n",
        "\r\n",
        "if __name__ == '__main__':\r\n",
        "    n = int(input().strip())\r\n",
        "\r\n",
        "    if n % 2 == 0:\r\n",
        "      if n in range(2,6) or n>20 : print(\"Not Weird\")\r\n",
        "      elif n in range(6,21): print(\"Weird\")\r\n",
        "    else: print(\"Weird\")"
      ],
      "execution_count": 33,
      "outputs": [
        {
          "output_type": "stream",
          "text": [
            "3\n",
            "Weird\n"
          ],
          "name": "stdout"
        }
      ]
    }
  ]
}