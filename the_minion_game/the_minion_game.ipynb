{
  "nbformat": 4,
  "nbformat_minor": 0,
  "metadata": {
    "colab": {
      "name": "the_minion_game.ipynb",
      "provenance": [],
      "collapsed_sections": []
    },
    "kernelspec": {
      "name": "python3",
      "display_name": "Python 3"
    }
  },
  "cells": [
    {
      "cell_type": "markdown",
      "metadata": {
        "id": "2YuOUT9I1qDZ"
      },
      "source": [
        "# **The Minion Game**\r\n",
        "\r\n",
        "Link del challenge\r\n",
        "> https://www.hackerrank.com/challenges/the-minion-game/problem\r\n",
        "\r\n",
        "\r\n"
      ]
    },
    {
      "cell_type": "markdown",
      "metadata": {
        "id": "srZV48ElQdsZ"
      },
      "source": [
        "## **PROBLEM**\r\n",
        "Kevin and Stuart want to play the '**The Minion Game**'.\r\n",
        "\r\n",
        "## Game Rules\r\n",
        "\r\n",
        "Both players are given the same string, ***S***.\r\n",
        "\r\n",
        "Both players have to make substrings using the letters of the string ***S***.\r\n",
        "\r\n",
        "Stuart has to make words starting with consonants.\r\n",
        "\r\n",
        "Kevin has to make words starting with vowels.\r\n",
        "\r\n",
        "The game ends when both players have made all possible substrings.\r\n",
        "\r\n",
        "## Scoring\r\n",
        "\r\n",
        "A player gets +1 point for each occurrence of the substring in the string ***S***.\r\n",
        "\r\n",
        "### For Example:\r\n",
        "\r\n",
        "String ***S*** = BANANA\r\n",
        "\r\n",
        "Kevin's vowel beginning word = ANA\r\n",
        "\r\n",
        "Here, ANA occurs twice in BANANA. Hence, Kevin will get 2 Points.\r\n",
        "\r\n",
        "For better understanding, see the image below:\r\n",
        "\r\n",
        "![imagen_base](https://s3.amazonaws.com/hr-challenge-images/9693/1450330231-04db904008-banana.png)\r\n",
        "\r\n",
        "Your task is to determine the winner of the game and their score.\r\n",
        "\r\n",
        "## Input Format\r\n",
        "\r\n",
        "A single line of input containing the string ***S***.\r\n",
        "\r\n",
        "> **Note**: The string ***S*** will contain only uppercase letters: [A-Z].\r\n",
        "\r\n",
        "## Constraints\r\n",
        "0 < _len(S)_ ≤ 10^6\r\n",
        "\r\n",
        "## Output Format\r\n",
        "\r\n",
        "Print one line: the name of the winner and their score separated by a space.\r\n",
        "\r\n",
        "If the game is a draw, print Draw.\r\n",
        "\r\n",
        "## Sample Input\r\n",
        "\r\n",
        "    BANANA\r\n",
        "\r\n",
        "##Sample Output\r\n",
        "\r\n",
        "    Stuart 12\r\n",
        "\r\n",
        "> **Note**:\r\n",
        "Vowels are only defined as ***AEIOU***. In this problem, ***Y*** is not considered a vowel."
      ]
    },
    {
      "cell_type": "markdown",
      "metadata": {
        "id": "RpJUx43GSLsz"
      },
      "source": [
        "## **RESOLUTION**\r\n",
        "\r\n",
        "Link de la explicacion del codigo\r\n",
        "> https://github.com/MayumyCH/dsfem_datachallenge_monthly/blob/main/the_minion_game/Resoluci%C3%B3n%20del%20challenge.pdf\r\n",
        "\r\n"
      ]
    },
    {
      "cell_type": "code",
      "metadata": {
        "colab": {
          "base_uri": "https://localhost:8080/"
        },
        "id": "QhPY032OR9NU",
        "outputId": "6af276a2-700f-4b19-8b94-d803700bec25"
      },
      "source": [
        "def minion_game(string):\r\n",
        "    string = string.upper()\r\n",
        "    vowels_list = ['A','E','I','O','U']\r\n",
        "\r\n",
        "    len_string = len(string)\r\n",
        "    total_substrings= (len_string)*(len_string+1)/2\r\n",
        "    total_substrings_vowels = sum(len_string-index for index, character in enumerate(string) if character in vowels_list)\r\n",
        "    total_substrings_consonants = int(total_substrings) - int(total_substrings_vowels)\r\n",
        "\r\n",
        "    if total_substrings_vowels == total_substrings_consonants: print(\"Draw\")\r\n",
        "    elif total_substrings_vowels > total_substrings_consonants: print(\"Kevin {}\".format(total_substrings_vowels))\r\n",
        "    else: print(\"Stuart {}\".format(total_substrings_consonants))\r\n",
        "\r\n",
        "if __name__ == '__main__':\r\n",
        "    s = input()\r\n",
        "    minion_game(s)"
      ],
      "execution_count": 2,
      "outputs": [
        {
          "output_type": "stream",
          "text": [
            "BANANA\n",
            "Stuart 12\n"
          ],
          "name": "stdout"
        }
      ]
    }
  ]
}