{
 "cells": [
  {
   "cell_type": "markdown",
   "metadata": {
    "id": "2YuOUT9I1qDZ"
   },
   "source": [
    "<img src=\"https://i.ibb.co/DWSqtc1/Encabezado.png\" alt=\"descargar\" border=\"0\" width=900px>\n",
    "\n",
    "# **The Minion Game**\n",
    "\n",
    "Link del challenge\n",
    "> https://www.hackerrank.com/challenges/the-minion-game/problem\n",
    "\n",
    "\n"
   ]
  },
  {
   "cell_type": "markdown",
   "metadata": {
    "id": "srZV48ElQdsZ"
   },
   "source": [
    "## **PROBLEM**\n",
    "Kevin and Stuart want to play the '**The Minion Game**'.\n",
    "\n",
    "## Game Rules\n",
    "\n",
    "Both players are given the same string, ***S***.\n",
    "\n",
    "Both players have to make substrings using the letters of the string ***S***.\n",
    "\n",
    "Stuart has to make words starting with consonants.\n",
    "\n",
    "Kevin has to make words starting with vowels.\n",
    "\n",
    "The game ends when both players have made all possible substrings.\n",
    "\n",
    "## Scoring\n",
    "\n",
    "A player gets +1 point for each occurrence of the substring in the string ***S***.\n",
    "\n",
    "### For Example:\n",
    "\n",
    "String ***S*** = BANANA\n",
    "\n",
    "Kevin's vowel beginning word = ANA\n",
    "\n",
    "Here, ANA occurs twice in BANANA. Hence, Kevin will get 2 Points.\n",
    "\n",
    "For better understanding, see the image below:\n",
    "\n",
    "![imagen_base](https://s3.amazonaws.com/hr-challenge-images/9693/1450330231-04db904008-banana.png)\n",
    "\n",
    "Your task is to determine the winner of the game and their score.\n",
    "\n",
    "## Input Format\n",
    "\n",
    "A single line of input containing the string ***S***.\n",
    "\n",
    "> **Note**: The string ***S*** will contain only uppercase letters: [A-Z].\n",
    "\n",
    "## Constraints\n",
    "0 < _len(S)_ ≤ 10^6\n",
    "\n",
    "## Output Format\n",
    "\n",
    "Print one line: the name of the winner and their score separated by a space.\n",
    "\n",
    "If the game is a draw, print Draw.\n",
    "\n",
    "## Sample Input\n",
    "\n",
    "    BANANA\n",
    "\n",
    "##Sample Output\n",
    "\n",
    "    Stuart 12\n",
    "\n",
    "> **Note**:\n",
    "Vowels are only defined as ***AEIOU***. In this problem, ***Y*** is not considered a vowel."
   ]
  },
  {
   "cell_type": "markdown",
   "metadata": {
    "id": "RpJUx43GSLsz"
   },
   "source": [
    "## **RESOLUTION**\n",
    "\n",
    "Link de la explicacion del codigo\n",
    "> https://github.com/MayumyCH/dsfem_datachallenge_monthly/blob/main/the_minion_game/Resoluci%C3%B3n%20del%20challenge.pdf\n",
    "\n"
   ]
  },
  {
   "cell_type": "code",
   "execution_count": 1,
   "metadata": {
    "colab": {
     "base_uri": "https://localhost:8080/"
    },
    "id": "QhPY032OR9NU",
    "outputId": "eef609b8-5c08-4008-fea9-102766814a7a"
   },
   "outputs": [
    {
     "name": "stdout",
     "output_type": "stream",
     "text": [
      "BANANA\n",
      "Stuart 12\n"
     ]
    }
   ],
   "source": [
    "# SOLUCION CORTA\n",
    "\n",
    "def minion_game(string):\n",
    "    string = string.upper()\n",
    "\n",
    "    len_string = len(string)\n",
    "    total_substrings= (len_string)*(len_string+1)/2\n",
    "    total_substrings_vowels = sum(len_string-index for index, character in enumerate(string) if character in 'AEIOU')\n",
    "    total_substrings_consonants = int(total_substrings) - int(total_substrings_vowels)\n",
    "\n",
    "    print(['Draw','Kevin {}'.format(total_substrings_vowels),'Stuart {}'.format(\n",
    "        total_substrings_consonants)][0 if total_substrings_vowels == total_substrings_consonants else 1 if total_substrings_vowels > total_substrings_consonants else 2])   \n",
    "\n",
    "if __name__ == '__main__':\n",
    "    s = input()\n",
    "    minion_game(s)"
   ]
  },
  {
   "cell_type": "code",
   "execution_count": 2,
   "metadata": {},
   "outputs": [
    {
     "name": "stdout",
     "output_type": "stream",
     "text": [
      "BANANA\n",
      "Stuart 12\n"
     ]
    }
   ],
   "source": [
    "# SOLUCION LARGA\n",
    "\n",
    "def minion_game(string):\n",
    "    len_string = len(string)\n",
    "\n",
    "    # Nro total de substrings de una cadena\n",
    "    total_substrings= (len_string)*(len_string+1)/2\n",
    "\n",
    "    suma = 0\n",
    "    for index, character in enumerate(string):\n",
    "        if character in 'AEIOU':\n",
    "                cant_subcadenas = len_string - index\n",
    "                suma = suma + cant_subcadenas\n",
    "\n",
    "    # Nro total de substrings que empiezan con VOCAL\n",
    "    total_substrings_vowels = suma\n",
    "\n",
    "    # Nro total de substrings que empiezan con CONSONANTE\n",
    "    total_substrings_consonants = int(total_substrings) - int(total_substrings_vowels)\n",
    "\n",
    "    # Resultado:\n",
    "    if total_substrings_vowels == total_substrings_consonants:\n",
    "        print('Draw')\n",
    "    elif total_substrings_vowels > total_substrings_consonants:\n",
    "        print('Kevin {}'.format(total_substrings_vowels))\n",
    "    else:\n",
    "        print('Stuart {}'.format(total_substrings_consonants))\n",
    "    \n",
    "if __name__ == '__main__':\n",
    "    s = input()\n",
    "    minion_game(s)"
   ]
  },
  {
   "cell_type": "code",
   "execution_count": null,
   "metadata": {},
   "outputs": [],
   "source": []
  }
 ],
 "metadata": {
  "colab": {
   "collapsed_sections": [],
   "name": "the_minion_game.ipynb",
   "provenance": []
  },
  "kernelspec": {
   "display_name": "Python 3",
   "language": "python",
   "name": "python3"
  },
  "language_info": {
   "codemirror_mode": {
    "name": "ipython",
    "version": 3
   },
   "file_extension": ".py",
   "mimetype": "text/x-python",
   "name": "python",
   "nbconvert_exporter": "python",
   "pygments_lexer": "ipython3",
   "version": "3.8.5"
  }
 },
 "nbformat": 4,
 "nbformat_minor": 1
}
